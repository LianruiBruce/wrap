{
 "cells": [
  {
   "cell_type": "code",
   "execution_count": 1,
   "id": "c1dd7dff-d207-4462-a7c1-64a1e06755c5",
   "metadata": {},
   "outputs": [
    {
     "name": "stderr",
     "output_type": "stream",
     "text": [
      "C:\\Users\\dcsal\\miniconda3\\envs\\pytorch\\lib\\site-packages\\tqdm\\auto.py:21: TqdmWarning: IProgress not found. Please update jupyter and ipywidgets. See https://ipywidgets.readthedocs.io/en/stable/user_install.html\n",
      "  from .autonotebook import tqdm as notebook_tqdm\n"
     ]
    }
   ],
   "source": [
    "import logging\n",
    "from transformers import logging as hf_logging, T5Tokenizer, T5ForConditionalGeneration\n",
    "import torch"
   ]
  },
  {
   "cell_type": "code",
   "execution_count": 2,
   "id": "4c032048-e10a-4570-834d-4cbe71eaf715",
   "metadata": {},
   "outputs": [],
   "source": [
    "logging.basicConfig(level=logging.ERROR)\n",
    "hf_logging.set_verbosity_error()\n"
   ]
  },
  {
   "cell_type": "code",
   "execution_count": 3,
   "id": "2180fb69-4f55-4ffc-baba-e06be2a76543",
   "metadata": {},
   "outputs": [
    {
     "name": "stdout",
     "output_type": "stream",
     "text": [
      "NVIDIA GeForce RTX 3050 Laptop GPU\n"
     ]
    }
   ],
   "source": [
    "device = torch.device(\"cuda\" if torch.cuda.is_available() else \"cpu\")\n",
    "print(torch.cuda.get_device_name(torch.cuda.current_device()))\n"
   ]
  },
  {
   "cell_type": "code",
   "execution_count": 4,
   "id": "40ffe04a-74a0-4672-8e57-bfba6b78b3c4",
   "metadata": {},
   "outputs": [],
   "source": [
    "tokenizer = T5Tokenizer.from_pretrained('t5-small')\n",
    "model = T5ForConditionalGeneration.from_pretrained('t5-small').to(device)\n"
   ]
  },
  {
   "cell_type": "code",
   "execution_count": 5,
   "id": "6245a668-3d0b-488a-b9ee-ab566a09684f",
   "metadata": {},
   "outputs": [],
   "source": [
    "def summarize_text(text, length):\n",
    "    # Preprocess and tokenize the text efficiently\n",
    "    inputs = tokenizer.encode(\"summarize: \" + text, return_tensors=\"pt\", truncation=True, max_length=length).to(device)\n",
    "    # Generate summaries with optimized parameters\n",
    "    summary_ids = model.generate(inputs, max_length=length, min_length=2, length_penalty=2.5, num_beams=5, early_stopping=True)\n",
    "    summary = tokenizer.decode(summary_ids[0], skip_special_tokens=True)\n",
    "    return summary\n",
    "\n"
   ]
  },
  {
   "cell_type": "code",
   "execution_count": 6,
   "id": "ca49b25a-382f-451d-9a81-309d9055f720",
   "metadata": {},
   "outputs": [],
   "source": [
    "text = \"\"\"\n",
    "These terms and conditions outline the rules and regulations for the use of [Company Name]'s Website/App, located at [Website/App URL].\n",
    "\n",
    "By accessing this website/app, we assume you accept these terms and conditions in full. Do not continue to use [Website/App Name] if you do not accept all of the terms and conditions stated on this page.\n",
    "\n",
    "Cookies\n",
    "\n",
    "The website/app uses cookies to enhance user experience. By using [Website/App Name], you consent to the use of cookies in accordance with [Company Name]'s privacy policy.\n",
    "\n",
    "License\n",
    "\n",
    "Unless otherwise stated, [Company Name] and/or its licensors own the intellectual property rights for all material on [Website/App Name]. All intellectual property rights are reserved. You may view and/or print pages from [Website/App URL] for your personal use subject to restrictions set in these terms and conditions.\n",
    "\n",
    "You must not:\n",
    "\n",
    "Republish material from [Website/App URL]\n",
    "Sell, rent, or sub-license material from [Website/App URL]\n",
    "Reproduce, duplicate, or copy material from [Website/App URL]\n",
    "Redistribute content from [Website/App Name] (unless content is specifically made for redistribution).\n",
    "User Comments\n",
    "\n",
    "This Agreement shall begin on the date hereof. Certain parts of this website/app offer the opportunity for users to post and exchange opinions, information, material, and data ('Comments') in areas of the website/app. [Company Name] does not screen, edit, publish, or review Comments prior to their appearance on the website/app and Comments do not reflect the views or opinions of [Company Name], its agents, or affiliates. Comments reflect the view and opinion of the person who posts such view or opinion. To the extent permitted by applicable laws, [Company Name] shall not be responsible or liable for the Comments or for any loss cost, liability, damages, or expenses caused and or suffered as a result of any use of and/or posting of and/or appearance of the Comments on this website/app.\n",
    "\n",
    "[Company Name] reserves the right to monitor all Comments and to remove any Comments which it considers in its absolute discretion to be inappropriate, offensive, or otherwise in breach of these Terms and Conditions.\n",
    "\n",
    "Content Liability\n",
    "\n",
    "We shall have no responsibility or liability for any content appearing on your website/app. You agree to indemnify and defend us against all claims arising out of or based upon your website/app. No link(s) may appear on any page on your website/app or within any context containing content or materials that may be interpreted as libelous, obscene, or criminal, or which infringes, otherwise violates, or advocates the infringement or other violation of, any third party rights.\n",
    "\n",
    "Reservation of Rights\n",
    "\n",
    "We reserve the right at any time and in its sole discretion to request that you remove all links or any particular link to our website/app. You agree to immediately remove all links to our website/app upon such request. We also reserve the right to amend these terms and conditions and its linking policy at any time. By continuing to link to our website/app, you agree to be bound to and abide by these linking terms and conditions.\n",
    "\n",
    "Removal of links from our website/app\n",
    "\n",
    "If you find any link on our website/app or any linked website objectionable for any reason, you may contact us about this. We will consider requests to remove links but will have no obligation to do so or to respond directly to you.\n",
    "\n",
    "Disclaimer\n",
    "\n",
    "To the maximum extent permitted by applicable law, we exclude all representations, warranties, and conditions relating to our website/app and the use of this website/app (including, without limitation, any warranties implied by law in respect of satisfactory quality, fitness for purpose and/or the use of reasonable care and skill). Nothing in this disclaimer will:\n",
    "\n",
    "Limit or exclude our or your liability for death or personal injury resulting from negligence\n",
    "Limit or exclude our or your liability for fraud or fraudulent misrepresentation\n",
    "Limit any of our or your liabilities in any way that is not permitted under applicable law\n",
    "Exclude any of our or your liabilities that may not be excluded under applicable law\n",
    "The limitations and exclusions of liability set out in this Section and elsewhere in this disclaimer: (a) are subject to the preceding paragraph; and (b) govern all liabilities arising under the disclaimer or in relation to the subject matter of this disclaimer, including liabilities arising in contract, in tort (including negligence) and for breach of statutory duty.\n",
    "\n",
    "To the extent that the website/app and the information and services on the website/app are provided free of charge, we will not be liable for any loss or damage of any nature.\n",
    "\"\"\""
   ]
  },
  {
   "cell_type": "code",
   "execution_count": 7,
   "id": "baa0a110-536a-4a64-9636-0240a1f3f888",
   "metadata": {},
   "outputs": [],
   "source": [
    "preprocessed_text = \" \".join(text.strip().split())\n"
   ]
  },
  {
   "cell_type": "code",
   "execution_count": 8,
   "id": "d9aa7c65-9ffc-4d5a-9dd4-dd3b7342713b",
   "metadata": {},
   "outputs": [],
   "source": [
    "summary = summarize_text(preprocessed_text, 512)\n"
   ]
  },
  {
   "cell_type": "code",
   "execution_count": 9,
   "id": "96db2d64-c6af-4629-afae-2cc386d682d2",
   "metadata": {},
   "outputs": [
    {
     "name": "stdout",
     "output_type": "stream",
     "text": [
      "these terms and conditions outline the rules and regulations for the use of [Company Name]'s Website/App, located at [Website/App URL]. Do not continue to use [Website/App Name] if you do not accept all of the terms and conditions stated on this page. cookies The website/app uses cookies to enhance user experience.\n"
     ]
    }
   ],
   "source": [
    "print(summary)\n"
   ]
  },
  {
   "cell_type": "code",
   "execution_count": null,
   "id": "2fa408a2-b165-478a-a6ad-9b5ebb5c23be",
   "metadata": {},
   "outputs": [],
   "source": []
  }
 ],
 "metadata": {
  "kernelspec": {
   "display_name": "Python 3 (ipykernel)",
   "language": "python",
   "name": "python3"
  },
  "language_info": {
   "codemirror_mode": {
    "name": "ipython",
    "version": 3
   },
   "file_extension": ".py",
   "mimetype": "text/x-python",
   "name": "python",
   "nbconvert_exporter": "python",
   "pygments_lexer": "ipython3",
   "version": "3.9.18"
  }
 },
 "nbformat": 4,
 "nbformat_minor": 5
}

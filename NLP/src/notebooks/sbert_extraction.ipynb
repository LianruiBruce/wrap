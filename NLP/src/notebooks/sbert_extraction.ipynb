{
 "cells": [
  {
   "cell_type": "code",
   "execution_count": 1,
   "metadata": {},
   "outputs": [
    {
     "name": "stdout",
     "output_type": "stream",
     "text": [
      "Collecting bert-extractive-summarizer\n",
      "  Downloading bert_extractive_summarizer-0.10.1-py3-none-any.whl.metadata (15 kB)\n",
      "Requirement already satisfied: transformers in c:\\users\\dcsal\\miniconda3\\envs\\pytorch\\lib\\site-packages (from bert-extractive-summarizer) (4.37.2)\n",
      "Requirement already satisfied: scikit-learn in c:\\users\\dcsal\\miniconda3\\envs\\pytorch\\lib\\site-packages (from bert-extractive-summarizer) (1.4.1.post1)\n",
      "Collecting spacy (from bert-extractive-summarizer)\n",
      "  Downloading spacy-3.7.4-cp39-cp39-win_amd64.whl.metadata (27 kB)\n",
      "Requirement already satisfied: numpy<2.0,>=1.19.5 in c:\\users\\dcsal\\miniconda3\\envs\\pytorch\\lib\\site-packages (from scikit-learn->bert-extractive-summarizer) (1.26.3)\n",
      "Requirement already satisfied: scipy>=1.6.0 in c:\\users\\dcsal\\miniconda3\\envs\\pytorch\\lib\\site-packages (from scikit-learn->bert-extractive-summarizer) (1.12.0)\n",
      "Requirement already satisfied: joblib>=1.2.0 in c:\\users\\dcsal\\miniconda3\\envs\\pytorch\\lib\\site-packages (from scikit-learn->bert-extractive-summarizer) (1.3.2)\n",
      "Requirement already satisfied: threadpoolctl>=2.0.0 in c:\\users\\dcsal\\miniconda3\\envs\\pytorch\\lib\\site-packages (from scikit-learn->bert-extractive-summarizer) (3.3.0)\n",
      "Collecting spacy-legacy<3.1.0,>=3.0.11 (from spacy->bert-extractive-summarizer)\n",
      "  Downloading spacy_legacy-3.0.12-py2.py3-none-any.whl.metadata (2.8 kB)\n",
      "Collecting spacy-loggers<2.0.0,>=1.0.0 (from spacy->bert-extractive-summarizer)\n",
      "  Downloading spacy_loggers-1.0.5-py3-none-any.whl.metadata (23 kB)\n",
      "Collecting murmurhash<1.1.0,>=0.28.0 (from spacy->bert-extractive-summarizer)\n",
      "  Downloading murmurhash-1.0.10-cp39-cp39-win_amd64.whl.metadata (2.0 kB)\n",
      "Collecting cymem<2.1.0,>=2.0.2 (from spacy->bert-extractive-summarizer)\n",
      "  Downloading cymem-2.0.8-cp39-cp39-win_amd64.whl.metadata (8.6 kB)\n",
      "Collecting preshed<3.1.0,>=3.0.2 (from spacy->bert-extractive-summarizer)\n",
      "  Downloading preshed-3.0.9-cp39-cp39-win_amd64.whl.metadata (2.2 kB)\n",
      "Collecting thinc<8.3.0,>=8.2.2 (from spacy->bert-extractive-summarizer)\n",
      "  Downloading thinc-8.2.3-cp39-cp39-win_amd64.whl.metadata (15 kB)\n",
      "Collecting wasabi<1.2.0,>=0.9.1 (from spacy->bert-extractive-summarizer)\n",
      "  Downloading wasabi-1.1.2-py3-none-any.whl.metadata (28 kB)\n",
      "Collecting srsly<3.0.0,>=2.4.3 (from spacy->bert-extractive-summarizer)\n",
      "  Downloading srsly-2.4.8-cp39-cp39-win_amd64.whl.metadata (20 kB)\n",
      "Collecting catalogue<2.1.0,>=2.0.6 (from spacy->bert-extractive-summarizer)\n",
      "  Downloading catalogue-2.0.10-py3-none-any.whl.metadata (14 kB)\n",
      "Collecting weasel<0.4.0,>=0.1.0 (from spacy->bert-extractive-summarizer)\n",
      "  Downloading weasel-0.3.4-py3-none-any.whl.metadata (4.7 kB)\n",
      "Collecting typer<0.10.0,>=0.3.0 (from spacy->bert-extractive-summarizer)\n",
      "  Downloading typer-0.9.0-py3-none-any.whl.metadata (14 kB)\n",
      "Collecting smart-open<7.0.0,>=5.2.1 (from spacy->bert-extractive-summarizer)\n",
      "  Downloading smart_open-6.4.0-py3-none-any.whl.metadata (21 kB)\n",
      "Requirement already satisfied: tqdm<5.0.0,>=4.38.0 in c:\\users\\dcsal\\miniconda3\\envs\\pytorch\\lib\\site-packages (from spacy->bert-extractive-summarizer) (4.66.2)\n",
      "Requirement already satisfied: requests<3.0.0,>=2.13.0 in c:\\users\\dcsal\\miniconda3\\envs\\pytorch\\lib\\site-packages (from spacy->bert-extractive-summarizer) (2.31.0)\n",
      "Collecting pydantic!=1.8,!=1.8.1,<3.0.0,>=1.7.4 (from spacy->bert-extractive-summarizer)\n",
      "  Downloading pydantic-2.6.3-py3-none-any.whl.metadata (84 kB)\n",
      "     ---------------------------------------- 0.0/84.4 kB ? eta -:--:--\n",
      "     ---------------------------------------- 84.4/84.4 kB 4.6 MB/s eta 0:00:00\n",
      "Requirement already satisfied: jinja2 in c:\\users\\dcsal\\miniconda3\\envs\\pytorch\\lib\\site-packages (from spacy->bert-extractive-summarizer) (3.1.3)\n",
      "Requirement already satisfied: setuptools in c:\\users\\dcsal\\miniconda3\\envs\\pytorch\\lib\\site-packages (from spacy->bert-extractive-summarizer) (68.2.2)\n",
      "Requirement already satisfied: packaging>=20.0 in c:\\users\\dcsal\\miniconda3\\envs\\pytorch\\lib\\site-packages (from spacy->bert-extractive-summarizer) (23.2)\n",
      "Collecting langcodes<4.0.0,>=3.2.0 (from spacy->bert-extractive-summarizer)\n",
      "  Downloading langcodes-3.3.0-py3-none-any.whl.metadata (29 kB)\n",
      "Requirement already satisfied: filelock in c:\\users\\dcsal\\miniconda3\\envs\\pytorch\\lib\\site-packages (from transformers->bert-extractive-summarizer) (3.13.1)\n",
      "Requirement already satisfied: huggingface-hub<1.0,>=0.19.3 in c:\\users\\dcsal\\miniconda3\\envs\\pytorch\\lib\\site-packages (from transformers->bert-extractive-summarizer) (0.20.3)\n",
      "Requirement already satisfied: pyyaml>=5.1 in c:\\users\\dcsal\\miniconda3\\envs\\pytorch\\lib\\site-packages (from transformers->bert-extractive-summarizer) (6.0.1)\n",
      "Requirement already satisfied: regex!=2019.12.17 in c:\\users\\dcsal\\miniconda3\\envs\\pytorch\\lib\\site-packages (from transformers->bert-extractive-summarizer) (2023.12.25)\n",
      "Requirement already satisfied: tokenizers<0.19,>=0.14 in c:\\users\\dcsal\\miniconda3\\envs\\pytorch\\lib\\site-packages (from transformers->bert-extractive-summarizer) (0.15.2)\n",
      "Requirement already satisfied: safetensors>=0.4.1 in c:\\users\\dcsal\\miniconda3\\envs\\pytorch\\lib\\site-packages (from transformers->bert-extractive-summarizer) (0.4.2)\n",
      "Requirement already satisfied: fsspec>=2023.5.0 in c:\\users\\dcsal\\miniconda3\\envs\\pytorch\\lib\\site-packages (from huggingface-hub<1.0,>=0.19.3->transformers->bert-extractive-summarizer) (2024.2.0)\n",
      "Requirement already satisfied: typing-extensions>=3.7.4.3 in c:\\users\\dcsal\\miniconda3\\envs\\pytorch\\lib\\site-packages (from huggingface-hub<1.0,>=0.19.3->transformers->bert-extractive-summarizer) (4.9.0)\n",
      "Collecting annotated-types>=0.4.0 (from pydantic!=1.8,!=1.8.1,<3.0.0,>=1.7.4->spacy->bert-extractive-summarizer)\n",
      "  Downloading annotated_types-0.6.0-py3-none-any.whl.metadata (12 kB)\n",
      "Collecting pydantic-core==2.16.3 (from pydantic!=1.8,!=1.8.1,<3.0.0,>=1.7.4->spacy->bert-extractive-summarizer)\n",
      "  Downloading pydantic_core-2.16.3-cp39-none-win_amd64.whl.metadata (6.6 kB)\n",
      "Requirement already satisfied: charset-normalizer<4,>=2 in c:\\users\\dcsal\\miniconda3\\envs\\pytorch\\lib\\site-packages (from requests<3.0.0,>=2.13.0->spacy->bert-extractive-summarizer) (2.0.4)\n",
      "Requirement already satisfied: idna<4,>=2.5 in c:\\users\\dcsal\\miniconda3\\envs\\pytorch\\lib\\site-packages (from requests<3.0.0,>=2.13.0->spacy->bert-extractive-summarizer) (3.4)\n",
      "Requirement already satisfied: urllib3<3,>=1.21.1 in c:\\users\\dcsal\\miniconda3\\envs\\pytorch\\lib\\site-packages (from requests<3.0.0,>=2.13.0->spacy->bert-extractive-summarizer) (2.1.0)\n",
      "Requirement already satisfied: certifi>=2017.4.17 in c:\\users\\dcsal\\miniconda3\\envs\\pytorch\\lib\\site-packages (from requests<3.0.0,>=2.13.0->spacy->bert-extractive-summarizer) (2024.2.2)\n",
      "Collecting blis<0.8.0,>=0.7.8 (from thinc<8.3.0,>=8.2.2->spacy->bert-extractive-summarizer)\n",
      "  Downloading blis-0.7.11-cp39-cp39-win_amd64.whl.metadata (7.6 kB)\n",
      "Collecting confection<1.0.0,>=0.0.1 (from thinc<8.3.0,>=8.2.2->spacy->bert-extractive-summarizer)\n",
      "  Downloading confection-0.1.4-py3-none-any.whl.metadata (19 kB)\n",
      "Requirement already satisfied: colorama in c:\\users\\dcsal\\miniconda3\\envs\\pytorch\\lib\\site-packages (from tqdm<5.0.0,>=4.38.0->spacy->bert-extractive-summarizer) (0.4.6)\n",
      "Requirement already satisfied: click<9.0.0,>=7.1.1 in c:\\users\\dcsal\\miniconda3\\envs\\pytorch\\lib\\site-packages (from typer<0.10.0,>=0.3.0->spacy->bert-extractive-summarizer) (8.1.7)\n",
      "Collecting cloudpathlib<0.17.0,>=0.7.0 (from weasel<0.4.0,>=0.1.0->spacy->bert-extractive-summarizer)\n",
      "  Downloading cloudpathlib-0.16.0-py3-none-any.whl.metadata (14 kB)\n",
      "Requirement already satisfied: MarkupSafe>=2.0 in c:\\users\\dcsal\\miniconda3\\envs\\pytorch\\lib\\site-packages (from jinja2->spacy->bert-extractive-summarizer) (2.1.3)\n",
      "Downloading bert_extractive_summarizer-0.10.1-py3-none-any.whl (25 kB)\n",
      "Downloading spacy-3.7.4-cp39-cp39-win_amd64.whl (12.2 MB)\n",
      "   ---------------------------------------- 0.0/12.2 MB ? eta -:--:--\n",
      "   - -------------------------------------- 0.5/12.2 MB 10.7 MB/s eta 0:00:02\n",
      "   ---- ----------------------------------- 1.3/12.2 MB 16.7 MB/s eta 0:00:01\n",
      "   ------ --------------------------------- 2.0/12.2 MB 16.1 MB/s eta 0:00:01\n",
      "   ----------- ---------------------------- 3.4/12.2 MB 19.7 MB/s eta 0:00:01\n",
      "   --------------- ------------------------ 4.8/12.2 MB 21.8 MB/s eta 0:00:01\n",
      "   -------------------- ------------------- 6.3/12.2 MB 23.7 MB/s eta 0:00:01\n",
      "   ---------------------------- ----------- 8.6/12.2 MB 29.0 MB/s eta 0:00:01\n",
      "   ---------------------------------- ----- 10.3/12.2 MB 28.5 MB/s eta 0:00:01\n",
      "   ---------------------------------------  12.2/12.2 MB 36.3 MB/s eta 0:00:01\n",
      "   ---------------------------------------- 12.2/12.2 MB 32.7 MB/s eta 0:00:00\n",
      "Downloading catalogue-2.0.10-py3-none-any.whl (17 kB)\n",
      "Downloading cymem-2.0.8-cp39-cp39-win_amd64.whl (39 kB)\n",
      "Downloading langcodes-3.3.0-py3-none-any.whl (181 kB)\n",
      "   ---------------------------------------- 0.0/181.6 kB ? eta -:--:--\n",
      "   --------------------------------------- 181.6/181.6 kB 10.7 MB/s eta 0:00:00\n",
      "Downloading murmurhash-1.0.10-cp39-cp39-win_amd64.whl (25 kB)\n",
      "Downloading preshed-3.0.9-cp39-cp39-win_amd64.whl (122 kB)\n",
      "   ---------------------------------------- 0.0/122.7 kB ? eta -:--:--\n",
      "   ---------------------------------------- 122.7/122.7 kB ? eta 0:00:00\n",
      "Downloading pydantic-2.6.3-py3-none-any.whl (395 kB)\n",
      "   ---------------------------------------- 0.0/395.2 kB ? eta -:--:--\n",
      "   --------------------------------------- 395.2/395.2 kB 25.7 MB/s eta 0:00:00\n",
      "Downloading pydantic_core-2.16.3-cp39-none-win_amd64.whl (1.9 MB)\n",
      "   ---------------------------------------- 0.0/1.9 MB ? eta -:--:--\n",
      "   ---------------------------------------- 1.9/1.9 MB 30.2 MB/s eta 0:00:00\n",
      "Downloading smart_open-6.4.0-py3-none-any.whl (57 kB)\n",
      "   ---------------------------------------- 0.0/57.0 kB ? eta -:--:--\n",
      "   ---------------------------------------- 57.0/57.0 kB 2.9 MB/s eta 0:00:00\n",
      "Downloading spacy_legacy-3.0.12-py2.py3-none-any.whl (29 kB)\n",
      "Downloading spacy_loggers-1.0.5-py3-none-any.whl (22 kB)\n",
      "Downloading srsly-2.4.8-cp39-cp39-win_amd64.whl (483 kB)\n",
      "   ---------------------------------------- 0.0/483.8 kB ? eta -:--:--\n",
      "   ---------------------------------------  481.3/483.8 kB ? eta -:--:--\n",
      "   ---------------------------------------- 483.8/483.8 kB 7.6 MB/s eta 0:00:00\n",
      "Downloading thinc-8.2.3-cp39-cp39-win_amd64.whl (1.5 MB)\n",
      "   ---------------------------------------- 0.0/1.5 MB ? eta -:--:--\n",
      "   -------------------- ------------------- 0.8/1.5 MB 24.4 MB/s eta 0:00:01\n",
      "   ---------------------------------------- 1.5/1.5 MB 31.5 MB/s eta 0:00:00\n",
      "Downloading typer-0.9.0-py3-none-any.whl (45 kB)\n",
      "   ---------------------------------------- 0.0/45.9 kB ? eta -:--:--\n",
      "   ---------------------------------------- 45.9/45.9 kB 2.2 MB/s eta 0:00:00\n",
      "Downloading wasabi-1.1.2-py3-none-any.whl (27 kB)\n",
      "Downloading weasel-0.3.4-py3-none-any.whl (50 kB)\n",
      "   ---------------------------------------- 0.0/50.1 kB ? eta -:--:--\n",
      "   ---------------------------------------- 50.1/50.1 kB 2.7 MB/s eta 0:00:00\n",
      "Downloading annotated_types-0.6.0-py3-none-any.whl (12 kB)\n",
      "Downloading blis-0.7.11-cp39-cp39-win_amd64.whl (6.6 MB)\n",
      "   ---------------------------------------- 0.0/6.6 MB ? eta -:--:--\n",
      "   --------- ------------------------------ 1.6/6.6 MB 34.0 MB/s eta 0:00:01\n",
      "   ------------------- -------------------- 3.3/6.6 MB 34.9 MB/s eta 0:00:01\n",
      "   ---------------------------- ----------- 4.7/6.6 MB 33.2 MB/s eta 0:00:01\n",
      "   ---------------------------------------  6.6/6.6 MB 35.3 MB/s eta 0:00:01\n",
      "   ---------------------------------------- 6.6/6.6 MB 32.6 MB/s eta 0:00:00\n",
      "Downloading cloudpathlib-0.16.0-py3-none-any.whl (45 kB)\n",
      "   ---------------------------------------- 0.0/45.0 kB ? eta -:--:--\n",
      "   ---------------------------------------- 45.0/45.0 kB ? eta 0:00:00\n",
      "Downloading confection-0.1.4-py3-none-any.whl (35 kB)\n",
      "Installing collected packages: cymem, wasabi, spacy-loggers, spacy-legacy, smart-open, pydantic-core, murmurhash, langcodes, cloudpathlib, catalogue, blis, annotated-types, typer, srsly, pydantic, preshed, confection, weasel, thinc, spacy, bert-extractive-summarizer\n",
      "Successfully installed annotated-types-0.6.0 bert-extractive-summarizer-0.10.1 blis-0.7.11 catalogue-2.0.10 cloudpathlib-0.16.0 confection-0.1.4 cymem-2.0.8 langcodes-3.3.0 murmurhash-1.0.10 preshed-3.0.9 pydantic-2.6.3 pydantic-core-2.16.3 smart-open-6.4.0 spacy-3.7.4 spacy-legacy-3.0.12 spacy-loggers-1.0.5 srsly-2.4.8 thinc-8.2.3 typer-0.9.0 wasabi-1.1.2 weasel-0.3.4\n",
      "Note: you may need to restart the kernel to use updated packages.\n"
     ]
    }
   ],
   "source": [
    "pip install bert-extractive-summarizer\n"
   ]
  },
  {
   "cell_type": "code",
   "execution_count": 2,
   "metadata": {},
   "outputs": [
    {
     "name": "stdout",
     "output_type": "stream",
     "text": [
      "Requirement already satisfied: sentence-transformers in c:\\users\\dcsal\\miniconda3\\envs\\pytorch\\lib\\site-packages (2.5.1)\n",
      "Requirement already satisfied: transformers<5.0.0,>=4.32.0 in c:\\users\\dcsal\\miniconda3\\envs\\pytorch\\lib\\site-packages (from sentence-transformers) (4.37.2)\n",
      "Requirement already satisfied: tqdm in c:\\users\\dcsal\\miniconda3\\envs\\pytorch\\lib\\site-packages (from sentence-transformers) (4.66.2)\n",
      "Requirement already satisfied: torch>=1.11.0 in c:\\users\\dcsal\\miniconda3\\envs\\pytorch\\lib\\site-packages (from sentence-transformers) (2.2.0)\n",
      "Requirement already satisfied: numpy in c:\\users\\dcsal\\miniconda3\\envs\\pytorch\\lib\\site-packages (from sentence-transformers) (1.26.3)\n",
      "Requirement already satisfied: scikit-learn in c:\\users\\dcsal\\miniconda3\\envs\\pytorch\\lib\\site-packages (from sentence-transformers) (1.4.1.post1)\n",
      "Requirement already satisfied: scipy in c:\\users\\dcsal\\miniconda3\\envs\\pytorch\\lib\\site-packages (from sentence-transformers) (1.12.0)\n",
      "Requirement already satisfied: huggingface-hub>=0.15.1 in c:\\users\\dcsal\\miniconda3\\envs\\pytorch\\lib\\site-packages (from sentence-transformers) (0.20.3)\n",
      "Requirement already satisfied: Pillow in c:\\users\\dcsal\\miniconda3\\envs\\pytorch\\lib\\site-packages (from sentence-transformers) (10.2.0)\n",
      "Requirement already satisfied: filelock in c:\\users\\dcsal\\miniconda3\\envs\\pytorch\\lib\\site-packages (from huggingface-hub>=0.15.1->sentence-transformers) (3.13.1)\n",
      "Requirement already satisfied: fsspec>=2023.5.0 in c:\\users\\dcsal\\miniconda3\\envs\\pytorch\\lib\\site-packages (from huggingface-hub>=0.15.1->sentence-transformers) (2024.2.0)\n",
      "Requirement already satisfied: requests in c:\\users\\dcsal\\miniconda3\\envs\\pytorch\\lib\\site-packages (from huggingface-hub>=0.15.1->sentence-transformers) (2.31.0)\n",
      "Requirement already satisfied: pyyaml>=5.1 in c:\\users\\dcsal\\miniconda3\\envs\\pytorch\\lib\\site-packages (from huggingface-hub>=0.15.1->sentence-transformers) (6.0.1)\n",
      "Requirement already satisfied: typing-extensions>=3.7.4.3 in c:\\users\\dcsal\\miniconda3\\envs\\pytorch\\lib\\site-packages (from huggingface-hub>=0.15.1->sentence-transformers) (4.9.0)\n",
      "Requirement already satisfied: packaging>=20.9 in c:\\users\\dcsal\\miniconda3\\envs\\pytorch\\lib\\site-packages (from huggingface-hub>=0.15.1->sentence-transformers) (23.2)\n",
      "Requirement already satisfied: sympy in c:\\users\\dcsal\\miniconda3\\envs\\pytorch\\lib\\site-packages (from torch>=1.11.0->sentence-transformers) (1.12)\n",
      "Requirement already satisfied: networkx in c:\\users\\dcsal\\miniconda3\\envs\\pytorch\\lib\\site-packages (from torch>=1.11.0->sentence-transformers) (3.1)\n",
      "Requirement already satisfied: jinja2 in c:\\users\\dcsal\\miniconda3\\envs\\pytorch\\lib\\site-packages (from torch>=1.11.0->sentence-transformers) (3.1.3)\n",
      "Requirement already satisfied: colorama in c:\\users\\dcsal\\miniconda3\\envs\\pytorch\\lib\\site-packages (from tqdm->sentence-transformers) (0.4.6)\n",
      "Requirement already satisfied: regex!=2019.12.17 in c:\\users\\dcsal\\miniconda3\\envs\\pytorch\\lib\\site-packages (from transformers<5.0.0,>=4.32.0->sentence-transformers) (2023.12.25)\n",
      "Requirement already satisfied: tokenizers<0.19,>=0.14 in c:\\users\\dcsal\\miniconda3\\envs\\pytorch\\lib\\site-packages (from transformers<5.0.0,>=4.32.0->sentence-transformers) (0.15.2)\n",
      "Requirement already satisfied: safetensors>=0.4.1 in c:\\users\\dcsal\\miniconda3\\envs\\pytorch\\lib\\site-packages (from transformers<5.0.0,>=4.32.0->sentence-transformers) (0.4.2)\n",
      "Requirement already satisfied: joblib>=1.2.0 in c:\\users\\dcsal\\miniconda3\\envs\\pytorch\\lib\\site-packages (from scikit-learn->sentence-transformers) (1.3.2)\n",
      "Requirement already satisfied: threadpoolctl>=2.0.0 in c:\\users\\dcsal\\miniconda3\\envs\\pytorch\\lib\\site-packages (from scikit-learn->sentence-transformers) (3.3.0)\n",
      "Requirement already satisfied: MarkupSafe>=2.0 in c:\\users\\dcsal\\miniconda3\\envs\\pytorch\\lib\\site-packages (from jinja2->torch>=1.11.0->sentence-transformers) (2.1.3)\n",
      "Requirement already satisfied: charset-normalizer<4,>=2 in c:\\users\\dcsal\\miniconda3\\envs\\pytorch\\lib\\site-packages (from requests->huggingface-hub>=0.15.1->sentence-transformers) (2.0.4)\n",
      "Requirement already satisfied: idna<4,>=2.5 in c:\\users\\dcsal\\miniconda3\\envs\\pytorch\\lib\\site-packages (from requests->huggingface-hub>=0.15.1->sentence-transformers) (3.4)\n",
      "Requirement already satisfied: urllib3<3,>=1.21.1 in c:\\users\\dcsal\\miniconda3\\envs\\pytorch\\lib\\site-packages (from requests->huggingface-hub>=0.15.1->sentence-transformers) (2.1.0)\n",
      "Requirement already satisfied: certifi>=2017.4.17 in c:\\users\\dcsal\\miniconda3\\envs\\pytorch\\lib\\site-packages (from requests->huggingface-hub>=0.15.1->sentence-transformers) (2024.2.2)\n",
      "Requirement already satisfied: mpmath>=0.19 in c:\\users\\dcsal\\miniconda3\\envs\\pytorch\\lib\\site-packages (from sympy->torch>=1.11.0->sentence-transformers) (1.3.0)\n",
      "Note: you may need to restart the kernel to use updated packages.\n"
     ]
    }
   ],
   "source": [
    "pip install -U sentence-transformers"
   ]
  },
  {
   "cell_type": "code",
   "execution_count": 3,
   "metadata": {},
   "outputs": [
    {
     "name": "stdout",
     "output_type": "stream",
     "text": [
      "Requirement already satisfied: summarizer in c:\\users\\dcsal\\miniconda3\\envs\\pytorch\\lib\\site-packages (0.0.7)\n",
      "Requirement already satisfied: nltk in c:\\users\\dcsal\\miniconda3\\envs\\pytorch\\lib\\site-packages (from summarizer) (3.8.1)\n",
      "Requirement already satisfied: click in c:\\users\\dcsal\\miniconda3\\envs\\pytorch\\lib\\site-packages (from nltk->summarizer) (8.1.7)\n",
      "Requirement already satisfied: joblib in c:\\users\\dcsal\\miniconda3\\envs\\pytorch\\lib\\site-packages (from nltk->summarizer) (1.3.2)\n",
      "Requirement already satisfied: regex>=2021.8.3 in c:\\users\\dcsal\\miniconda3\\envs\\pytorch\\lib\\site-packages (from nltk->summarizer) (2023.12.25)\n",
      "Requirement already satisfied: tqdm in c:\\users\\dcsal\\miniconda3\\envs\\pytorch\\lib\\site-packages (from nltk->summarizer) (4.66.2)\n",
      "Requirement already satisfied: colorama in c:\\users\\dcsal\\miniconda3\\envs\\pytorch\\lib\\site-packages (from click->nltk->summarizer) (0.4.6)\n",
      "Note: you may need to restart the kernel to use updated packages.\n"
     ]
    }
   ],
   "source": [
    "pip install summarizer"
   ]
  },
  {
   "cell_type": "code",
   "execution_count": 4,
   "metadata": {},
   "outputs": [
    {
     "name": "stderr",
     "output_type": "stream",
     "text": [
      "c:\\Users\\dcsal\\miniconda3\\envs\\pytorch\\lib\\site-packages\\tqdm\\auto.py:21: TqdmWarning: IProgress not found. Please update jupyter and ipywidgets. See https://ipywidgets.readthedocs.io/en/stable/user_install.html\n",
      "  from .autonotebook import tqdm as notebook_tqdm\n"
     ]
    }
   ],
   "source": [
    "from summarizer.sbert import SBertSummarizer\n"
   ]
  },
  {
   "cell_type": "code",
   "execution_count": 5,
   "metadata": {},
   "outputs": [
    {
     "name": "stderr",
     "output_type": "stream",
     "text": [
      "modules.json: 100%|██████████| 229/229 [00:00<00:00, 28.4kB/s]\n",
      "c:\\Users\\dcsal\\miniconda3\\envs\\pytorch\\lib\\site-packages\\huggingface_hub\\file_download.py:149: UserWarning: `huggingface_hub` cache-system uses symlinks by default to efficiently store duplicated files but your machine does not support them in C:\\Users\\dcsal\\.cache\\huggingface\\hub\\models--sentence-transformers--paraphrase-MiniLM-L6-v2. Caching files will still work but in a degraded version that might require more space on your disk. This warning can be disabled by setting the `HF_HUB_DISABLE_SYMLINKS_WARNING` environment variable. For more details, see https://huggingface.co/docs/huggingface_hub/how-to-cache#limitations.\n",
      "To support symlinks on Windows, you either need to activate Developer Mode or to run Python as an administrator. In order to see activate developer mode, see this article: https://docs.microsoft.com/en-us/windows/apps/get-started/enable-your-device-for-development\n",
      "  warnings.warn(message)\n",
      "config_sentence_transformers.json: 100%|██████████| 122/122 [00:00<00:00, 132kB/s]\n",
      "README.md: 100%|██████████| 3.73k/3.73k [00:00<00:00, 775kB/s]\n",
      "sentence_bert_config.json: 100%|██████████| 53.0/53.0 [00:00<00:00, 11.8kB/s]\n",
      "config.json: 100%|██████████| 629/629 [00:00<?, ?B/s] \n",
      "pytorch_model.bin: 100%|██████████| 90.9M/90.9M [00:02<00:00, 44.5MB/s]\n",
      "tokenizer_config.json: 100%|██████████| 314/314 [00:00<00:00, 79.8kB/s]\n",
      "vocab.txt: 100%|██████████| 232k/232k [00:00<00:00, 14.8MB/s]\n",
      "tokenizer.json: 100%|██████████| 466k/466k [00:00<00:00, 4.64MB/s]\n",
      "special_tokens_map.json: 100%|██████████| 112/112 [00:00<?, ?B/s] \n",
      "1_Pooling/config.json: 100%|██████████| 190/190 [00:00<00:00, 17.7kB/s]\n"
     ]
    },
    {
     "name": "stdout",
     "output_type": "stream",
     "text": [
      "API\n",
      "OpenAI’s indemnification obligations to API customers under the Agreement include any third party claim that Customer’s use or distribution of Output infringes a third party’s intellectual property right. Beta Services\n",
      "This section governs your use of services or features that OpenAI offers on an alpha, preview, early access, or beta basis (“Beta Services”). OpenAI makes no representations or warranties for Beta Services, including any warranty that Beta Services will be generally available, uninterrupted or error-free, or that Content will be secure or not lost or damaged.\n"
     ]
    },
    {
     "name": "stderr",
     "output_type": "stream",
     "text": [
      "c:\\Users\\dcsal\\miniconda3\\envs\\pytorch\\lib\\site-packages\\sklearn\\cluster\\_kmeans.py:1446: UserWarning: KMeans is known to have a memory leak on Windows with MKL, when there are less chunks than available threads. You can avoid it by setting the environment variable OMP_NUM_THREADS=1.\n",
      "  warnings.warn(\n"
     ]
    }
   ],
   "source": [
    "body = \"\"\"\n",
    "1. API\n",
    "OpenAI’s indemnification obligations to API customers under the Agreement include any third party claim that Customer’s use or distribution of Output infringes a third party’s intellectual property right. This indemnity does not apply where: (i) Customer or Customer’s End Users knew or should have known the Output was infringing or likely to infringe, (ii) Customer or Customer’s End Users disabled, ignored, or did not use any relevant citation, filtering or safety features or restrictions provided by OpenAI, (iii) Output was modified, transformed, or used in combination with products or services not provided by or on behalf of OpenAI, (iv) Customer or its End Users did not have the right to use the Input or fine-tuning files to generate the allegedly infringing Output, (v) the claim alleges violation of trademark or related rights based on Customer’s or its End Users’ use of Output in trade or commerce, and (vi) the allegedly infringing Output is from content from a Third Party Offering.\n",
    "\n",
    "2. Beta Services\n",
    "This section governs your use of services or features that OpenAI offers on an alpha, preview, early access, or beta basis (“Beta Services”). Beta Services are offered “as-is” to allow testing and evaluation and are excluded from any indemnification obligations OpenAI may have to you.\n",
    "\n",
    "OpenAI makes no representations or warranties for Beta Services, including any warranty that Beta Services will be generally available, uninterrupted or error-free, or that Content will be secure or not lost or damaged. Except to the extent prohibited by law, OpenAI expressly disclaims all warranties for Beta Services, including any implied warranties of merchantability, satisfactory quality, fitness for a particular purpose, non-infringement, or quiet enjoyment, and any warranties arising out of any course of dealing or usage of trade.\n",
    "\"\"\"\n",
    "model = SBertSummarizer('paraphrase-MiniLM-L6-v2')\n",
    "result = model(body, num_sentences=3)\n",
    "print(result)"
   ]
  }
 ],
 "metadata": {
  "kernelspec": {
   "display_name": "pytorch",
   "language": "python",
   "name": "python3"
  },
  "language_info": {
   "codemirror_mode": {
    "name": "ipython",
    "version": 3
   },
   "file_extension": ".py",
   "mimetype": "text/x-python",
   "name": "python",
   "nbconvert_exporter": "python",
   "pygments_lexer": "ipython3",
   "version": "3.9.18"
  }
 },
 "nbformat": 4,
 "nbformat_minor": 2
}
